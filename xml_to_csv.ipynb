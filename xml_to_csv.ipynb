{
 "cells": [
  {
   "cell_type": "markdown",
   "metadata": {},
   "source": [
    "Image Prep Phase 2: XML conversion to CSV\n",
    "\n",
    "*Before using this notebook, label images with labelimg (Prep Phase 1). \n",
    "\n",
    "*This prep step creates an .xml file for each .jpg file. \n",
    "\n",
    "*Use this notebook to convert .xml files in a given directory to a single .csv file.  \n",
    "\n",
    "*After conversion to .csv proceed to Phase 3 (.csv to .record format).\n",
    "\n",
    "**Image data (.jpg and .xml) for testing should be in their own folder, i.e. ./train\n",
    "**Image data (.jpg and .xml) for training should be in their own folder, i.e. ./test\n",
    "\n",
    "**Final Outout: Should be train_labels.csv and test_labels.csv\n",
    "\n",
    "References: \n",
    "\n",
    "https://www.tutorialspoint.com/How-to-save-a-Python-Dictionary-to-CSV-file\n",
    "http://blog.appliedinformaticsinc.com/how-to-parse-and-convert-xml-to-csv-using-python/"
   ]
  },
  {
   "cell_type": "code",
   "execution_count": null,
   "metadata": {},
   "outputs": [],
   "source": [
    "import os\n",
    "import csv\n",
    "import glob\n",
    "import xml.etree.ElementTree as ET\n",
    "import pandas as pd"
   ]
  },
  {
   "cell_type": "markdown",
   "metadata": {},
   "source": [
    "Combine the data in all .xml files in the /test folder into a single .csv file. \n",
    "\n",
    "*Change path to your test images folder example: os.chdir('/Users/stuff/images/test')\n",
    "\n",
    "*Then run the converter for test images"
   ]
  },
  {
   "cell_type": "code",
   "execution_count": null,
   "metadata": {},
   "outputs": [],
   "source": [
    "os.chdir('/images/test') #should be the full path to where ever the test csv is located. \n",
    "tf_dir_test = os.getcwd()\n",
    "print(tf_dir_test)\n",
    "#print directory to confirm"
   ]
  },
  {
   "cell_type": "code",
   "execution_count": null,
   "metadata": {},
   "outputs": [],
   "source": [
    "#run this cell once after configuring path for test directory\n",
    "xml_list = []\n",
    "\n",
    "for xml_file in glob.glob(tf_dir_train + '/*.xml'):\n",
    "    tree = ET.parse(xml_file)\n",
    "    root = tree.getroot()\n",
    "    for member in root.findall('object'):\n",
    "        value = (root.find('filename').text,\n",
    "                int(root.find('size')[0].text),\n",
    "                int(root.find('size')[1].text),\n",
    "                member[0].text,\n",
    "                int(member[4][0].text),\n",
    "                int(member[4][1].text),\n",
    "                int(member[4][2].text),\n",
    "                int(member[4][3].text)\n",
    "                )\n",
    "        xml_list.append(value)\n",
    "column_name = ['filename', 'width', 'height', 'class', 'xmin', 'ymin', 'xmax', 'ymax']\n",
    "xml_df = pd.DataFrame(xml_list, columns=column_name)\n",
    "#return xml_df\n",
    "\n",
    "print(xml_df)\n",
    "\n",
    "xml_df.to_csv('test_labels.csv', index=None)\n",
    "\n",
    "#https://www.tutorialspoint.com/How-to-save-a-Python-Dictionary-to-CSV-file\n",
    "#http://blog.appliedinformaticsinc.com/how-to-parse-and-convert-xml-to-csv-using-python/"
   ]
  },
  {
   "cell_type": "markdown",
   "metadata": {},
   "source": [
    "Combine the data in all .xml files in the /train folder into a single .csv file. \n",
    "\n",
    "*Change path to your test images folder example: os.chdir('/Users/stuff/images/train')\n",
    "\n",
    "*Then run the converter for train images"
   ]
  },
  {
   "cell_type": "code",
   "execution_count": null,
   "metadata": {},
   "outputs": [],
   "source": [
    "os.chdir('/images/train') #should be the full path to where ever the train csv is located. \n",
    "tf_dir_train = os.getcwd()\n",
    "print(tf_dir_train)\n",
    "#print directory to confirm"
   ]
  },
  {
   "cell_type": "code",
   "execution_count": null,
   "metadata": {},
   "outputs": [],
   "source": [
    "xml_list = []\n",
    "\n",
    "for xml_file in glob.glob(tf_dir_train + '/*.xml'):\n",
    "    tree = ET.parse(xml_file)\n",
    "    root = tree.getroot()\n",
    "    for member in root.findall('object'):\n",
    "        value = (root.find('filename').text,\n",
    "                int(root.find('size')[0].text),\n",
    "                int(root.find('size')[1].text),\n",
    "                member[0].text,\n",
    "                int(member[4][0].text),\n",
    "                int(member[4][1].text),\n",
    "                int(member[4][2].text),\n",
    "                int(member[4][3].text)\n",
    "                )\n",
    "        xml_list.append(value)\n",
    "column_name = ['filename', 'width', 'height', 'class', 'xmin', 'ymin', 'xmax', 'ymax']\n",
    "xml_df = pd.DataFrame(xml_list, columns=column_name)\n",
    "#return xml_df\n",
    "\n",
    "print(xml_df)\n",
    "\n",
    "xml_df.to_csv('train_labels.csv', index=None)"
   ]
  }
 ],
 "metadata": {
  "kernelspec": {
   "display_name": "Python 3",
   "language": "python",
   "name": "python3"
  },
  "language_info": {
   "codemirror_mode": {
    "name": "ipython",
    "version": 3
   },
   "file_extension": ".py",
   "mimetype": "text/x-python",
   "name": "python",
   "nbconvert_exporter": "python",
   "pygments_lexer": "ipython3",
   "version": "3.7.3"
  }
 },
 "nbformat": 4,
 "nbformat_minor": 2
}
