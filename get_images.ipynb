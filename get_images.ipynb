{
 "cells": [
  {
   "cell_type": "markdown",
   "metadata": {},
   "source": [
    "Use this notebook to get images for training a custom detector in TensorFlow. \n",
    "\n",
    "Roadmap:\n",
    "\n",
    "*Identify a website that has the images you need - understand how to download images\n",
    "\n",
    "*Determine how to tailor an approach to get images\n",
    "\n",
    "*Use Chromedriver, Selenium, and BeautifulSoup to scrape the site for images\n",
    "\n",
    "*Save images in JPEG (.jpg) format to a folder called /images\n",
    "\n",
    "Key Reference: https://medium.com/@thimblot/data-augmentation-boost-your-image-dataset-with-few-lines-of-python-155c2dc1baec\n",
    "\n",
    "Images Credit: Images used according to terms and conditions at http://www.simpsoncrazy.com/"
   ]
  },
  {
   "cell_type": "code",
   "execution_count": null,
   "metadata": {},
   "outputs": [],
   "source": [
    "from selenium import webdriver\n",
    "from selenium.webdriver.common.by import By\n",
    "from selenium.webdriver.support.ui import WebDriverWait\n",
    "from selenium.webdriver.support import expected_conditions as EC\n",
    "\n",
    "from bs4 import BeautifulSoup\n",
    "from io import BytesIO\n",
    "\n",
    "import re\n",
    "import os\n",
    "\n",
    "from PIL import Image\n",
    "import requests\n",
    "import uuid"
   ]
  },
  {
   "cell_type": "code",
   "execution_count": null,
   "metadata": {
    "scrolled": true
   },
   "outputs": [],
   "source": [
    "#define 'sourceURL' as the target page that contains the list of zipped csv files\n",
    "sourceURL = \"http://www.simpsoncrazy.com/pictures/homer\"\n",
    "\n",
    "#call chrome webdriver as 'driver' (https://sites.google.com/a/chromium.org/chromedriver/downloads)\n",
    "driver = webdriver.Chrome('/Chromedriver201912/chromedriver')  \n",
    "\n",
    "#use webdriver to call the URL\n",
    "driver.get(sourceURL)\n",
    "\n",
    "#make sure the page loads before moving on, check by table visibility\n",
    "wait = WebDriverWait(driver, 10)\n",
    "wait.until(EC.visibility_of_all_elements_located((By.XPATH, '//*[@id=\"wrapper\"]/div[2]/table')))\n",
    "#in the above line, the XPATH value is found by using the XPATH Helper in Google Chrome\n",
    "\n",
    "#pass page to beautiful soupe as 'soup'\n",
    "soup = BeautifulSoup(driver.page_source, 'html.parser')\n",
    "\n",
    "#scrape links from beautiful soup in 'links'\n",
    "links = []\n",
    "\n",
    "#find image urls ending with .gif; based on research\n",
    "for link in soup.findAll('a', attrs={'href':re.compile(\".gif\")}):\n",
    "    \n",
    "    #create links list and append first half of url\n",
    "    links.append('http://www.simpsoncrazy.com'+link.get('href'))\n",
    "    \n",
    "    #print links list to confirm; comment out line below to hide list\n",
    "    print('http://www.simpsoncrazy.com'+link.get('href')) "
   ]
  },
  {
   "cell_type": "code",
   "execution_count": null,
   "metadata": {},
   "outputs": [],
   "source": [
    "#the purpose of this cell is to set the directory for wherever you want to save images to in the next step. \n",
    "\n",
    "#get the current working directory\n",
    "currentdir = os.getcwd()\n",
    "\n",
    "#create a path to make a new folder called images\n",
    "path = currentdir + '/images' \n",
    "\n",
    "#make the new folder called images\n",
    "os.mkdir(path) #skip this step or comment it out if you already have an images directory\n",
    "\n",
    "#print to confirm directory\n",
    "print(currentdir)"
   ]
  },
  {
   "cell_type": "code",
   "execution_count": null,
   "metadata": {},
   "outputs": [],
   "source": [
    "#iterate through links containing images\n",
    "for imagelink in links:\n",
    "    \n",
    "    #Open using Pillow through bytestream\n",
    "    im = Image.open(BytesIO(requests.get(imagelink).content))\n",
    "\n",
    "    #generate a random id and convert to string\n",
    "    random = str(uuid.uuid4()) \n",
    "\n",
    "    #save each image with prefix 'image_' + random unique ID; as JPEG (preferred)\n",
    "    im.convert('RGB').save(path + '/image_' + random + '.jpg', format = 'JPEG')\n",
    "\n",
    "#https://www.geeksforgeeks.org/python-pil-image-frombuffer-method/\n",
    "#https://www.geeksforgeeks.org/generating-random-ids-using-uuid-python/"
   ]
  },
  {
   "cell_type": "code",
   "execution_count": null,
   "metadata": {},
   "outputs": [],
   "source": [
    "# run to stop the driver\n",
    "driver.quit()"
   ]
  }
 ],
 "metadata": {
  "kernelspec": {
   "display_name": "Python 3",
   "language": "python",
   "name": "python3"
  },
  "language_info": {
   "codemirror_mode": {
    "name": "ipython",
    "version": 3
   },
   "file_extension": ".py",
   "mimetype": "text/x-python",
   "name": "python",
   "nbconvert_exporter": "python",
   "pygments_lexer": "ipython3",
   "version": "3.7.3"
  }
 },
 "nbformat": 4,
 "nbformat_minor": 2
}
