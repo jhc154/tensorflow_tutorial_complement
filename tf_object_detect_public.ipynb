{
  "nbformat": 4,
  "nbformat_minor": 0,
  "metadata": {
    "colab": {
      "name": "tf_object_detect_public.ipynb",
      "provenance": [],
      "collapsed_sections": [],
      "toc_visible": true,
      "include_colab_link": true
    },
    "kernelspec": {
      "name": "python3",
      "display_name": "Python 3"
    }
  },
  "cells": [
    {
      "cell_type": "markdown",
      "metadata": {
        "id": "view-in-github",
        "colab_type": "text"
      },
      "source": [
        "<a href=\"https://colab.research.google.com/github/jhc154/tensorflow_tutorial_complement/blob/master/tf_object_detect_public.ipynb\" target=\"_parent\"><img src=\"https://colab.research.google.com/assets/colab-badge.svg\" alt=\"Open In Colab\"/></a>"
      ]
    },
    {
      "cell_type": "markdown",
      "metadata": {
        "colab_type": "text",
        "id": "3cIrseUv6WKz"
      },
      "source": [
        "Based on Google's  [Object Detection API](https://github.com/tensorflow/models/tree/master/research/object_detection). This notebook combines other sources and my own troubleshooting to see whether the custom image detection worked. Key modifications to run object detector based on http://www.insightsbot.com/tensorflow-object-detection-tutorial-on-images/. BUILT TO RUN FROM GOOGLE COLAB."
      ]
    },
    {
      "cell_type": "code",
      "metadata": {
        "colab_type": "code",
        "id": "hGL97-GXjSUw",
        "colab": {}
      },
      "source": [
        "!pip install -U --pre tensorflow==\"2.*\""
      ],
      "execution_count": 0,
      "outputs": []
    },
    {
      "cell_type": "code",
      "metadata": {
        "colab_type": "code",
        "id": "Bg8ZyA47i3pY",
        "colab": {}
      },
      "source": [
        "!pip install pycocotools"
      ],
      "execution_count": 0,
      "outputs": []
    },
    {
      "cell_type": "code",
      "metadata": {
        "colab_type": "code",
        "id": "ykA0c-om51s1",
        "colab": {}
      },
      "source": [
        "import os\n",
        "import pathlib\n",
        "\n",
        "if \"models\" in pathlib.Path.cwd().parts:\n",
        "  while \"models\" in pathlib.Path.cwd().parts:\n",
        "    os.chdir('..')\n",
        "elif not pathlib.Path('models').exists():\n",
        "  !git clone --depth 1 https://github.com/tensorflow/models"
      ],
      "execution_count": 0,
      "outputs": []
    },
    {
      "cell_type": "code",
      "metadata": {
        "colab_type": "code",
        "id": "PY41vdYYNlXc",
        "colab": {}
      },
      "source": [
        "%%bash\n",
        "cd models/research/\n",
        "protoc object_detection/protos/*.proto --python_out=."
      ],
      "execution_count": 0,
      "outputs": []
    },
    {
      "cell_type": "code",
      "metadata": {
        "colab_type": "code",
        "id": "s62yJyQUcYbp",
        "colab": {}
      },
      "source": [
        "%%bash \n",
        "cd models/research\n",
        "pip install ."
      ],
      "execution_count": 0,
      "outputs": []
    },
    {
      "cell_type": "code",
      "metadata": {
        "colab_type": "code",
        "id": "hV4P5gyTWKMI",
        "colab": {}
      },
      "source": [
        "import numpy as np\n",
        "import os\n",
        "import six.moves.urllib as urllib\n",
        "import sys\n",
        "import tarfile\n",
        "import tensorflow as tf\n",
        "import zipfile\n",
        "\n",
        "from collections import defaultdict\n",
        "from io import StringIO\n",
        "from matplotlib import pyplot as plt\n",
        "from PIL import Image\n",
        "from IPython.display import display\n",
        "from os import listdir\n",
        "from os.path import isfile, join\n",
        "\n",
        "%matplotlib inline"
      ],
      "execution_count": 0,
      "outputs": []
    },
    {
      "cell_type": "code",
      "metadata": {
        "colab_type": "code",
        "id": "4-IMl4b6BdGO",
        "colab": {}
      },
      "source": [
        "from object_detection.utils import ops as utils_ops\n",
        "from object_detection.utils import label_map_util\n",
        "from object_detection.utils import visualization_utils as vis_util"
      ],
      "execution_count": 0,
      "outputs": []
    },
    {
      "cell_type": "markdown",
      "metadata": {
        "colab_type": "text",
        "id": "RYPCiag2iz_q"
      },
      "source": [
        "Patches:"
      ]
    },
    {
      "cell_type": "code",
      "metadata": {
        "colab_type": "code",
        "id": "mF-YlMl8c_bM",
        "colab": {}
      },
      "source": [
        "# patch tf1 into `utils.ops`\n",
        "utils_ops.tf = tf.compat.v1\n",
        "\n",
        "# Patch the location of gfile\n",
        "tf.gfile = tf.io.gfile"
      ],
      "execution_count": 0,
      "outputs": []
    },
    {
      "cell_type": "code",
      "metadata": {
        "id": "wmM0sut2VsCa",
        "colab_type": "code",
        "colab": {}
      },
      "source": [
        ""
      ],
      "execution_count": 0,
      "outputs": []
    },
    {
      "cell_type": "code",
      "metadata": {
        "id": "Q9Bh8zDkVsZf",
        "colab_type": "code",
        "colab": {}
      },
      "source": [
        "from google.colab import drive\n",
        "drive.mount('/content/drive')"
      ],
      "execution_count": 0,
      "outputs": []
    },
    {
      "cell_type": "code",
      "metadata": {
        "id": "lZuvvZwWxryW",
        "colab_type": "code",
        "colab": {}
      },
      "source": [
        "    # Path to frozen detection graph. This is the actual model that is used for the object detection.\n",
        "    PATH_TO_CKPT = '/content/drive/My Drive/TensorFlow/workspace/training_demo/pre-trained-model/faster_rcnn_inception_v2_coco_2018_01_28/frozen_inference_graph.pb'\n",
        "    \n",
        "    detection_graph = tf.Graph()\n",
        "    with detection_graph.as_default():\n",
        "        od_graph_def = tf.GraphDef()\n",
        "        with tf.gfile.GFile(PATH_TO_CKPT, 'rb') as fid:\n",
        "            serialized_graph = fid.read()\n",
        "            od_graph_def.ParseFromString(serialized_graph)\n",
        "            tf.import_graph_def(od_graph_def, name='')"
      ],
      "execution_count": 0,
      "outputs": []
    },
    {
      "cell_type": "code",
      "metadata": {
        "id": "07DJT5ln0B9q",
        "colab_type": "code",
        "colab": {}
      },
      "source": [
        ""
      ],
      "execution_count": 0,
      "outputs": []
    },
    {
      "cell_type": "code",
      "metadata": {
        "id": "X67SEVBh0CAi",
        "colab_type": "code",
        "colab": {}
      },
      "source": [
        "    # List of the strings that is used to add correct label for each box.\n",
        "    #Set PATH_TO_LABELS to the .pbtxt that you created in the tutorial if you are using your custom model\n",
        "    #If using the pre-trained model, most likely use the mscoco_label_map.pbtxt that comes in the TensorFlow/models/research/object_detection folder\n",
        "\n",
        "    PATH_TO_LABELS =  '/content/drive/My Drive/TensorFlow/models/research/object_detection/data/mscoco_label_map.pbtxt'\n",
        "    \n",
        "    NUM_CLASSES=90 #set to 90 if using mscoco; otherwise set to 1 when training the model on a single label\n",
        "    label_map = label_map_util.load_labelmap(PATH_TO_LABELS)\n",
        "    categories = label_map_util.convert_label_map_to_categories(label_map, max_num_classes=NUM_CLASSES, use_display_name=True)\n",
        "    category_index = label_map_util.create_category_index(categories)"
      ],
      "execution_count": 0,
      "outputs": []
    },
    {
      "cell_type": "code",
      "metadata": {
        "id": "TdSf1cgun6ib",
        "colab_type": "code",
        "colab": {}
      },
      "source": [
        ""
      ],
      "execution_count": 0,
      "outputs": []
    },
    {
      "cell_type": "code",
      "metadata": {
        "id": "z2XBZDXa0fWO",
        "colab_type": "code",
        "colab": {}
      },
      "source": [
        "    #no changes are necessary to this cell, just run it to create the function\n",
        "    def load_image_into_numpy_array(image):\n",
        "        (im_width, im_height) = image.size\n",
        "        return np.array(image.getdata()).reshape((im_height, im_width, 3)).astype(np.uint8)"
      ],
      "execution_count": 0,
      "outputs": []
    },
    {
      "cell_type": "code",
      "metadata": {
        "id": "80l_L3oi0crg",
        "colab_type": "code",
        "colab": {}
      },
      "source": [
        "    #no changes are necessary to this cell, just run it to create the function\n",
        "    def run_inference_for_single_image(image, graph):\n",
        "        with graph.as_default():\n",
        "            with tf.Session() as sess:\n",
        "                # Get handles to input and output tensors\n",
        "                ops = tf.get_default_graph().get_operations()\n",
        "                all_tensor_names = {output.name for op in ops for output in op.outputs}\n",
        "                tensor_dict = {}\n",
        "                for key in ['num_detections', 'detection_boxes', 'detection_scores','detection_classes', 'detection_masks']:\n",
        "                    tensor_name = key + ':0'\n",
        "                    if tensor_name in all_tensor_names:\n",
        "                        tensor_dict[key] = tf.get_default_graph().get_tensor_by_name(tensor_name)\n",
        "                    #END if tensor_name in\n",
        "                    if 'detection_masks' in tensor_dict:\n",
        "                        # The following processing is only for single image\n",
        "                        detection_boxes = tf.squeeze(tensor_dict['detection_boxes'], [0])\n",
        "                        detection_masks = tf.squeeze(tensor_dict['detection_masks'], [0])\n",
        "                        # Reframe is required to translate mask from box coordinates to image coordinates and fit the image size.\n",
        "                        real_num_detection = tf.cast(tensor_dict['num_detections'][0], tf.int32)\n",
        "                        detection_boxes = tf.slice(detection_boxes, [0, 0], [real_num_detection, -1])\n",
        "                        detection_masks = tf.slice(detection_masks, [0, 0, 0], [real_num_detection, -1, -1])\n",
        "                        detection_masks_reframed = utils_ops.reframe_box_masks_to_image_masks(\n",
        "                            detection_masks, detection_boxes, image.shape[0], image.shape[1])\n",
        "                        detection_masks_reframed = tf.cast(\n",
        "                            tf.greater(detection_masks_reframed, 0.5), tf.uint8)\n",
        "                        # Follow the convention by adding back the batch dimension\n",
        "                        tensor_dict['detection_masks'] = tf.expand_dims(detection_masks_reframed, 0)\n",
        "                    #END IF DETECTION MASKS\n",
        "                \n",
        "                #END FOR KEY LOOP\n",
        "                    \n",
        "                image_tensor = tf.get_default_graph().get_tensor_by_name('image_tensor:0')\n",
        "                # Run inference\n",
        "                output_dict = sess.run(tensor_dict,\n",
        "                                     feed_dict={image_tensor: np.expand_dims(image, 0)})\n",
        "                # all outputs are float32 numpy arrays, so convert types as appropriate\n",
        "                output_dict['num_detections'] = int(output_dict['num_detections'][0])\n",
        "                output_dict['detection_classes'] = output_dict[\n",
        "                  'detection_classes'][0].astype(np.uint8)\n",
        "                output_dict['detection_boxes'] = output_dict['detection_boxes'][0]\n",
        "                output_dict['detection_scores'] = output_dict['detection_scores'][0]\n",
        "                if 'detection_masks' in output_dict:\n",
        "                    output_dict['detection_masks'] = output_dict['detection_masks'][0]\n",
        "        return output_dict"
      ],
      "execution_count": 0,
      "outputs": []
    },
    {
      "cell_type": "code",
      "metadata": {
        "id": "hGm64O0s0CDG",
        "colab_type": "code",
        "colab": {}
      },
      "source": [
        "    #no changes are necessary to this cell, just run it to create the function\n",
        "    def Run_Object_Detection_On_Images(images_path):\n",
        "        IMAGE_SIZE = (12, 8)\n",
        "        for image_path in images_path:\n",
        "            image = Image.open(image_path)\n",
        "            # the array based representation of the image will be used later in order to prepare the\n",
        "            # result image with boxes and labels on it.\n",
        "            image_np = load_image_into_numpy_array(image)\n",
        "            # Expand dimensions since the model expects images to have shape: [1, None, None, 3]\n",
        "            image_np_expanded = np.expand_dims(image_np, axis=0)\n",
        "            # Actual detection.\n",
        "            output_dict = run_inference_for_single_image(image_np, detection_graph)\n",
        "            # Visualization of the results of a detection.\n",
        "            vis_util.visualize_boxes_and_labels_on_image_array(\n",
        "              image_np,\n",
        "              output_dict['detection_boxes'],\n",
        "              output_dict['detection_classes'],\n",
        "              output_dict['detection_scores'],\n",
        "              category_index,\n",
        "              instance_masks=output_dict.get('detection_masks'),\n",
        "              use_normalized_coordinates=True,\n",
        "              line_thickness=5)\n",
        "            plt.figure(figsize=IMAGE_SIZE)\n",
        "            plt.imshow(image_np)"
      ],
      "execution_count": 0,
      "outputs": []
    },
    {
      "cell_type": "code",
      "metadata": {
        "id": "UA3wshQ4102A",
        "colab_type": "code",
        "colab": {}
      },
      "source": [
        "#set path for TEST_IMAGES_BASE_PATH to whatever folder has images to test object detectors on\n",
        "\n",
        "#I chose about 10 images from my dataset and placed them in a /dev folder\n",
        "#Try running this object detector with a few different models before training to see how they perform\n",
        "#Run this object detector using your custom model after training to compare it against the baseline models\n",
        "\n",
        "TEST_IMAGES_BASE_PATH = \"/content/drive/My Drive/TensorFlow/workspace/training_demo/images/dev/\"\n",
        "TEST_IMAGES_PATHS = [TEST_IMAGES_BASE_PATH+f for f in listdir(TEST_IMAGES_BASE_PATH) if isfile(join(TEST_IMAGES_BASE_PATH, f))]"
      ],
      "execution_count": 0,
      "outputs": []
    },
    {
      "cell_type": "code",
      "metadata": {
        "id": "bW8W4XCc104W",
        "colab_type": "code",
        "colab": {}
      },
      "source": [
        "Run_Object_Detection_On_Images(TEST_IMAGES_PATHS)\n",
        "\n"
      ],
      "execution_count": 0,
      "outputs": []
    }
  ]
}