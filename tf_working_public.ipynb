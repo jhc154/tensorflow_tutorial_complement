{
  "nbformat": 4,
  "nbformat_minor": 0,
  "metadata": {
    "colab": {
      "name": "tf_working_public.ipynb",
      "provenance": [],
      "collapsed_sections": [],
      "authorship_tag": "ABX9TyOm8i54tFYDfiNGjoMLIyWj",
      "include_colab_link": true
    },
    "kernelspec": {
      "name": "python3",
      "display_name": "Python 3"
    },
    "accelerator": "GPU"
  },
  "cells": [
    {
      "cell_type": "markdown",
      "metadata": {
        "id": "view-in-github",
        "colab_type": "text"
      },
      "source": [
        "<a href=\"https://colab.research.google.com/github/jhc154/tensorflow_tutorial_complement/blob/master/tf_working_public.ipynb\" target=\"_parent\"><img src=\"https://colab.research.google.com/assets/colab-badge.svg\" alt=\"Open In Colab\"/></a>"
      ]
    },
    {
      "cell_type": "code",
      "metadata": {
        "id": "Ddjhvq5-7cSf",
        "colab_type": "code",
        "colab": {}
      },
      "source": [
        "#install tensorflow 1.12 instead of default version; required to make the tutorial work as documented\n",
        "#as of 11 January 2020.\n",
        "\n",
        "!pip install tensorflow==1.12.0\n",
        "#https://stackoverflow.com/questions/57265921/how-to-solve-tensorflow-has-no-attribute-init-scope"
      ],
      "execution_count": 0,
      "outputs": []
    },
    {
      "cell_type": "code",
      "metadata": {
        "id": "qM4sY3zk4AlF",
        "colab_type": "code",
        "colab": {}
      },
      "source": [
        "#need to import your GDRIVE to access files, paths, environments, etc\n",
        "from google.colab import drive\n",
        "drive.mount('/content/gdrive')"
      ],
      "execution_count": 0,
      "outputs": []
    },
    {
      "cell_type": "code",
      "metadata": {
        "id": "SY7eTsI97zEe",
        "colab_type": "code",
        "colab": {}
      },
      "source": [
        "#set environments; assumes you downloaded and installed the tensorflow models\n",
        "!set PYTHONPATH=/content/gdrive/My\\ Drive/TensorFlow/models\n",
        "!set PYTHONPATH=/content/gdrive/My\\ Drive/TensorFlow/models/research\n",
        "!set PYTHONPATH=/content/gdrive/My\\ Drive/TensorFlow/models/research/slim"
      ],
      "execution_count": 0,
      "outputs": []
    },
    {
      "cell_type": "code",
      "metadata": {
        "id": "rNI3AXEc8n0r",
        "colab_type": "code",
        "colab": {}
      },
      "source": [
        "#necessary to install and configure the object detection utilities\n",
        "%cd /content/gdrive/My\\ Drive/TensorFlow/models/research\n",
        "!python setup.py build\n",
        "!python setup.py install"
      ],
      "execution_count": 0,
      "outputs": []
    },
    {
      "cell_type": "code",
      "metadata": {
        "id": "H_A96Hpt7zQY",
        "colab_type": "code",
        "colab": {}
      },
      "source": [
        "#complete configuration for object detection utils\n",
        "%cd /content/gdrive/My\\ Drive/TensorFlow/models/research\n",
        "!pwd\n",
        "!protoc object_detection/protos/*.proto --python_out=."
      ],
      "execution_count": 0,
      "outputs": []
    },
    {
      "cell_type": "code",
      "metadata": {
        "id": "ZU44X9nm9xG2",
        "colab_type": "code",
        "colab": {}
      },
      "source": [
        ""
      ],
      "execution_count": 0,
      "outputs": []
    },
    {
      "cell_type": "code",
      "metadata": {
        "id": "kVFggyn99hzu",
        "colab_type": "code",
        "colab": {}
      },
      "source": [
        "#run to test configuration. if this does not work, then troubleshoot environmental config and install\n",
        "#Good: See something like \"Ran 17 tests in 0.096s OK\"\n",
        "#Bad: See something like \"ModuleNotFoundError: No module named 'object_detection'\"\n",
        "#usage: re-run this cell anytime you think there might be an environmental issue\n",
        "\n",
        "#final configuration for environment\n",
        "import os\n",
        "\n",
        "%cd /content/gdrive/My\\ Drive/TensorFlow/\n",
        "\n",
        "os.environ['PYTHONPATH'] += ':/content/gdrive/My Drive/TensorFlow/models/research/:/content/gdrive/My Drive/TensorFlow/models/research/slim'\n",
        "os.environ['PYTHONPATH'] += ':/content/gdrive/My Drive/TensorFlow/models/research/:/content/gdrive/My Drive/TensorFlow/models/research/object_detection'\n",
        "\n",
        "!python models/research/object_detection/builders/model_builder_test.py"
      ],
      "execution_count": 0,
      "outputs": []
    },
    {
      "cell_type": "code",
      "metadata": {
        "id": "2qiISCxB-jt4",
        "colab_type": "code",
        "colab": {}
      },
      "source": [
        ""
      ],
      "execution_count": 0,
      "outputs": []
    },
    {
      "cell_type": "code",
      "metadata": {
        "id": "_CYWsw3g-j1j",
        "colab_type": "code",
        "colab": {}
      },
      "source": [
        "#this kicks off the trainer\n",
        "#before launching use the tf_tensorboard.ipnyb notebook in a separate window to launch the tensorboard and monitor progress \n",
        "#if the tensorboard does not display any stats, press stop, and then start running this cell again.\n",
        "#pausing and starting may force TF to create an events.out.tfevents file that tensorboard requires. \n",
        "\n",
        "%cd /content/gdrive/My\\ Drive/TensorFlow/workspace/training_demo\n",
        "\n",
        "!python train.py --logtostderr --train_dir=training/ --pipeline_config_path=training/ssd_mobilenet_v2.config\n",
        "\n",
        "#the train.py has/will be deprecated for model_main.py but can still work with tf 1.12.0; ignore warnings for now"
      ],
      "execution_count": 0,
      "outputs": []
    },
    {
      "cell_type": "code",
      "metadata": {
        "id": "hm4zsVVwWyH3",
        "colab_type": "code",
        "colab": {}
      },
      "source": [
        ""
      ],
      "execution_count": 0,
      "outputs": []
    },
    {
      "cell_type": "code",
      "metadata": {
        "id": "4PX-DGRXl0N1",
        "colab_type": "code",
        "colab": {}
      },
      "source": [
        "#from a google drive tab and after the training session is completed, insepct the /training folder\n",
        "#look for files like \"model.cpkt-12345\" and \"graph.pbtxt\"\n",
        "#need to either copy the export_inference_graph.py file into your training_demo folder or \n",
        "#cd to the directory that contains it\n",
        "\n",
        "#usage: everything default (!python export_inference_graph.py --input_type image_tensor) except\n",
        "#--pipeline_config_path training/ssd_inception_v2_coco_2018_01_28.config #change to whatever your config file is named\n",
        "#--trained_checkpoint_prefix training/model.ckpt-16533 #change to which ever model your session created in /training\n",
        "#--output_directory trained-graphs/custom_inference_inception_v2.pb #change to any directory and filename ending in .pb\n",
        "\n",
        "%cd /content/gdrive/My\\ Drive/TensorFlow/workspace/training_demo\n",
        "!python export_inference_graph.py --input_type image_tensor --pipeline_config_path training/ssd_inception_v2_coco_2018_01_28.config --trained_checkpoint_prefix training/model.ckpt-16533 --output_directory trained-graphs/custom_inference_inception_v2.pb"
      ],
      "execution_count": 0,
      "outputs": []
    }
  ]
}