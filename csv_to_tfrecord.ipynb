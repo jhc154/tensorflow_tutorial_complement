{
 "cells": [
  {
   "cell_type": "markdown",
   "metadata": {},
   "source": [
    "Image Prep Phase 3: CSV conversion to TFRECORD (.record)\n",
    "\n",
    "*Before using this notebook, convert image xml data to csv (Prep Phase 2).\n",
    "\n",
    "*This prep step creates an .record file for each .csv file.\n",
    "\n",
    "*Use this notebook to convert a .csv to a single .record file.\n",
    "\n",
    "*After conversion to .record proceed with image training (Training Phase 1).\n",
    "\n",
    "*You should have a train_labels.csv and a test_labels.csv in their respective /train and /test folders. \n",
    "\n",
    "*The original tutorial runs this code from the command line. This code is adapted to allow you to debug and see what is happening top to bottom. \n",
    "\n",
    "**Configured to support training of just a single label. \n",
    "\n",
    "**Final Outout: Should be train.record and test.record\n",
    "\n",
    "References: \n",
    "\n",
    "Code unpacked from tutorial at: https://tensorflow-object-detection-api-tutorial.readthedocs.io/en/latest/training.html\n",
    "\n",
    "installing tensorflow https://tensorflow-object-detection-api-tutorial.readthedocs.io/en/latest/install.html\n",
    "\n",
    "https://chamaradodandeniya.wordpress.com/2019/04/16/how-to-configure-google-colab-for-object-detection-using-tensorflow/\n",
    "\n",
    "https://github.com/tensorflow/models/issues/2031\n",
    "\n",
    "Troubleshooting: \n",
    "\n",
    "TensorFlow versioning issues between tutorials and online forums may cause issues. Common problems and solutions:\n",
    "\n",
    "Will not work: tf.gfile.GFile | Replace with: tf.io.gfile.Gfile\n",
    "\n",
    "Will not work: tf.python_io.TFRecordWriter | Replace with: tf.io.TFRecordWriter"
   ]
  },
  {
   "cell_type": "code",
   "execution_count": null,
   "metadata": {},
   "outputs": [],
   "source": [
    "import os\n",
    "import io\n",
    "import pandas as pd\n",
    "import tensorflow as tf\n",
    "#installing tensorflow on mac or pc requires extensive setup, see reference 'installing tensorflow'\n",
    "\n",
    "import sys\n",
    "sys.path.append(\"../../models/research\")\n",
    "\n",
    "from PIL import Image\n",
    "from object_detection.utils import dataset_util\n",
    "#object_detection.utils requires extensive setup, see 'installing tensorflow'\n",
    "\n",
    "from collections import namedtuple, OrderedDict"
   ]
  },
  {
   "cell_type": "code",
   "execution_count": null,
   "metadata": {},
   "outputs": [],
   "source": [
    "#run once to create a funciton called class_text_to_int, to be called later\n",
    "#configure the row_label to your label\n",
    "\n",
    "def class_text_to_int(row_label):\n",
    "    if row_label == 'homer':  # replace 'homer' with your label\n",
    "        return 1\n",
    "    else:\n",
    "        print('none')\n",
    "        None"
   ]
  },
  {
   "cell_type": "code",
   "execution_count": null,
   "metadata": {},
   "outputs": [],
   "source": [
    "#run once to create a function called split, to be called later\n",
    "\n",
    "def split(df, group):\n",
    "    data = namedtuple('data', ['filename', 'object'])\n",
    "    gb = df.groupby(group)\n",
    "    return [data(filename, gb.get_group(x)) for filename, x in zip(gb.groups.keys(), gb.groups)]"
   ]
  },
  {
   "cell_type": "code",
   "execution_count": null,
   "metadata": {},
   "outputs": [],
   "source": [
    "#run once to create a function called create_tf_example, to be called later\n",
    "\n",
    "def create_tf_example(group, path):\n",
    "    with tf.io.gfile.GFile(os.path.join(path, '{}'.format(group.filename)), 'rb') as fid:\n",
    "        encoded_jpg = fid.read()\n",
    "\n",
    "    encoded_jpg_io = io.BytesIO(encoded_jpg)\n",
    "    image = Image.open(encoded_jpg_io)\n",
    "    width, height = image.size\n",
    "    \n",
    "    filename = group.filename.encode('utf8')\n",
    "    image_format = b'jpg'\n",
    "\n",
    "    xmins = []\n",
    "    xmaxs = []\n",
    "    ymins = []\n",
    "    ymaxs = []\n",
    "    classes_text = []\n",
    "    classes = []\n",
    "\n",
    "    for index, row in group.object.iterrows():\n",
    "        xmins.append(row['xmin'] / width)\n",
    "        xmaxs.append(row['xmax'] / width)\n",
    "        ymins.append(row['ymin'] / height)\n",
    "        ymaxs.append(row['ymax'] / height)\n",
    "        classes_text.append(row['class'].encode('utf8'))\n",
    "        classes.append(class_text_to_int(row['class']))\n",
    "\n",
    "    tf_example = tf.train.Example(features=tf.train.Features(feature={\n",
    "        'image/height': dataset_util.int64_feature(height),\n",
    "        'image/width': dataset_util.int64_feature(width),\n",
    "        'image/filename': dataset_util.bytes_feature(filename),\n",
    "        'image/source_id': dataset_util.bytes_feature(filename),\n",
    "        'image/encoded': dataset_util.bytes_feature(encoded_jpg),\n",
    "        'image/format': dataset_util.bytes_feature(image_format),\n",
    "        'image/object/bbox/xmin': dataset_util.float_list_feature(xmins),\n",
    "        'image/object/bbox/xmax': dataset_util.float_list_feature(xmaxs),\n",
    "        'image/object/bbox/ymin': dataset_util.float_list_feature(ymins),\n",
    "        'image/object/bbox/ymax': dataset_util.float_list_feature(ymaxs),\n",
    "        'image/object/class/text': dataset_util.bytes_list_feature(classes_text),\n",
    "        'image/object/class/label': dataset_util.int64_list_feature(classes),\n",
    "    }))\n",
    "    return tf_example"
   ]
  },
  {
   "cell_type": "code",
   "execution_count": null,
   "metadata": {},
   "outputs": [],
   "source": [
    "#run once with variables set for test and then run again for test; \n",
    "#for second run, replace values for csv_input, img_path, and output_path\n",
    "\n",
    "#full path to your test_labels.csv or train_label.csv file\n",
    "csv_input = '/images/test/test_labels.csv'\n",
    "\n",
    "#full path to the location of your images; either train or test\n",
    "img_path = '/images/test' \n",
    "\n",
    "#full path to the output location and .record file\n",
    "output_path = '/annotations/test.record' "
   ]
  },
  {
   "cell_type": "code",
   "execution_count": null,
   "metadata": {},
   "outputs": [],
   "source": [
    "#run once, then again after changing variables between test and train\n",
    "\n",
    "writer = tf.io.TFRecordWriter(output_path)\n",
    "path = os.path.join(os.getcwd(), img_path)\n",
    "examples = pd.read_csv(csv_input)\n",
    "grouped = split(examples, 'filename')"
   ]
  },
  {
   "cell_type": "code",
   "execution_count": null,
   "metadata": {},
   "outputs": [],
   "source": [
    "#run once, then again after changing variables between test and train\n",
    "\n",
    "for group in grouped:\n",
    "    tf_example = create_tf_example(group, path)\n",
    "    writer.write(tf_example.SerializeToString())\n",
    "\n",
    "writer.close()\n",
    "output_path = os.path.join(os.getcwd(), output_path)\n",
    "print('Successfully created the TFRecords: {}'.format(output_path))"
   ]
  },
  {
   "cell_type": "code",
   "execution_count": null,
   "metadata": {},
   "outputs": [],
   "source": [
    "#not necessary but print the tfrecord to preview the file that you generated\n",
    "print(tf_example)"
   ]
  },
  {
   "cell_type": "code",
   "execution_count": null,
   "metadata": {},
   "outputs": [],
   "source": []
  }
 ],
 "metadata": {
  "kernelspec": {
   "display_name": "Python 3",
   "language": "python",
   "name": "python3"
  },
  "language_info": {
   "codemirror_mode": {
    "name": "ipython",
    "version": 3
   },
   "file_extension": ".py",
   "mimetype": "text/x-python",
   "name": "python",
   "nbconvert_exporter": "python",
   "pygments_lexer": "ipython3",
   "version": "3.7.3"
  }
 },
 "nbformat": 4,
 "nbformat_minor": 2
}
