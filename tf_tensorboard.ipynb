{
  "nbformat": 4,
  "nbformat_minor": 0,
  "metadata": {
    "colab": {
      "name": "tf_tensorboard.ipynb",
      "provenance": [],
      "collapsed_sections": [],
      "authorship_tag": "ABX9TyMfIcqltLEQzSu0ttoM4MQz",
      "include_colab_link": true
    },
    "kernelspec": {
      "name": "python3",
      "display_name": "Python 3"
    }
  },
  "cells": [
    {
      "cell_type": "markdown",
      "metadata": {
        "id": "view-in-github",
        "colab_type": "text"
      },
      "source": [
        "<a href=\"https://colab.research.google.com/github/jhc154/tensorflow_tutorial_complement/blob/master/tf_tensorboard.ipynb\" target=\"_parent\"><img src=\"https://colab.research.google.com/assets/colab-badge.svg\" alt=\"Open In Colab\"/></a>"
      ]
    },
    {
      "cell_type": "code",
      "metadata": {
        "id": "t_7psssFmQi-",
        "colab_type": "code",
        "colab": {}
      },
      "source": [
        "from google.colab import drive\n",
        "drive.mount('/content/gdrive')"
      ],
      "execution_count": 0,
      "outputs": []
    },
    {
      "cell_type": "code",
      "metadata": {
        "id": "suhmnskdppxT",
        "colab_type": "code",
        "colab": {}
      },
      "source": [
        "%load_ext tensorboard"
      ],
      "execution_count": 0,
      "outputs": []
    },
    {
      "cell_type": "code",
      "metadata": {
        "id": "-41A6PP1I5E0",
        "colab_type": "code",
        "colab": {}
      },
      "source": [
        "%reload_ext tensorboard"
      ],
      "execution_count": 0,
      "outputs": []
    },
    {
      "cell_type": "code",
      "metadata": {
        "id": "AacQDQ6f7VzM",
        "colab_type": "code",
        "colab": {}
      },
      "source": [
        "#https://www.tensorflow.org/tensorboard/scalars_and_keras\n",
        "\n",
        "%tensorboard --logdir /content/gdrive/My\\ Drive/GDATA/Homer/TensorFlow/workspace/training_demo/training\n",
        "\n",
        "#if nothing appears after 10 minutes; interrupt the runtime execution of the notebook where you are training\n",
        "#Interrupting the training session may force TF to create the tfevents file that tensorboard requires\n",
        "#You can resume the training session and it will start off from where it was last"
      ],
      "execution_count": 0,
      "outputs": []
    },
    {
      "cell_type": "code",
      "metadata": {
        "id": "-8A4HU2T7V4Q",
        "colab_type": "code",
        "colab": {}
      },
      "source": [
        "%tensorboard --logdir /content/gdrive/My\\ Drive/GDATA/Homer/TensorFlow/workspace/training_demo/test"
      ],
      "execution_count": 0,
      "outputs": []
    }
  ]
}